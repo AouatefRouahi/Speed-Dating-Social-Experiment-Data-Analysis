{
 "cells": [
  {
   "cell_type": "markdown",
   "metadata": {},
   "source": [
    "# Speed Dating Social Experiment Data Analysis\n",
    "----------\n",
    "* **Data**: [Speed Dating Experiment](https://www.kaggle.com/annavictoria/speed-dating-experiment)  \n",
    "* **Experiment**:  Subjects are invited to participate in a sessions (waves) of experimental speed dating events. If they accept to participate, a 3 phase procedure is launched. \n",
    "> **Registration Phase**: subjects are asked to supply data related to demographics, dating habits, lifestyle information, and attributes evaluation questionnaire  \n",
    "> **Event Phase**: dates are predefined between different genders. After each date (4 mn date) during the event, the subject is asked to fill in a score card where they are asked to evaluate their partners given 6 attributes. Finally, subjects should decide whether they would like a second date with their partners or not.  \n",
    "> **Post Event Phase**: Subjects are asked to fill in another questionnaire in order to receive their matches\n",
    "\n",
    "* **Main Question**: what it takes to improve the chance to get an approval from the partners ?\n",
    "---------\n",
    "<pre>📝 <b>Note</b>\n",
    "<div style=\"background-color:#C2F2ED;\">Some of the parts which follow in this analysis have been inspired by the analysis done by <b>James Hwang, Lucas Cadalzo</b> coded in <b>R language</b>: <a href=\"https://www.kaggle.com/jph84562/the-ugly-truth-of-people-decisions-in-speed-dating/script\">The Ugly Truth of People Decisions in Speed Dating.</a></div></pre> \n",
    "-------"
   ]
  },
  {
   "cell_type": "markdown",
   "metadata": {
    "tags": []
   },
   "source": [
    "### Table of Contents\n",
    "\n",
    "* [1. Data Analysis](#section3)\n",
    "    * [1.1. Load Preprocessed Data](#section31)\n",
    "    * [1.2. Age/Gender Analysis](#section32)\n",
    "    * [1.3. Goal Analysis  (What is the primary goal of subjects in participating in Speed Dating)](#section33)\n",
    "    * [1.4. Attributes that participants look for in their partners](#section34)\n",
    "    * [1.5. Which of the attributes actually influence Decision Making](#section35)\n",
    "* [2. Conclusion](#section4)"
   ]
  },
  {
   "cell_type": "code",
   "execution_count": 1,
   "metadata": {},
   "outputs": [],
   "source": [
    "# Importing useful libraries\n",
    "# generic libs\n",
    "import pandas as pd\n",
    "import numpy as np\n",
    "from math import pi\n",
    "\n",
    "#plotting libs\n",
    "import seaborn as sns\n",
    "import matplotlib.pyplot as plt\n",
    "%matplotlib inline\n",
    "import matplotlib.ticker as tick\n",
    "\n",
    "# view all possible rows and columns\n",
    "pd.options.display.max_rows = 999\n",
    "pd.options.display.max_columns = 999\n",
    "\n",
    "#ignore warnings\n",
    "import warnings\n",
    "warnings.filterwarnings('ignore')\n",
    "\n",
    "# Predefined Functions\n",
    "from modules import MyFunctions as F"
   ]
  },
  {
   "cell_type": "markdown",
   "metadata": {},
   "source": [
    "# Data Analysis <a class=\"anchor\" id=\"section3\"></a>"
   ]
  },
  {
   "cell_type": "markdown",
   "metadata": {},
   "source": [
    "## Load Preprocessed Data <a class=\"anchor\" id=\"section31\"></a>"
   ]
  },
  {
   "cell_type": "code",
   "execution_count": 2,
   "metadata": {},
   "outputs": [],
   "source": [
    "dataset = pd.read_csv(\"data/prep_Speed_Dating_Data.csv\", encoding= 'unicode_escape')"
   ]
  },
  {
   "cell_type": "code",
   "execution_count": 3,
   "metadata": {
    "tags": []
   },
   "outputs": [
    {
     "data": {
      "text/html": [
       "<svg  width=\"550\" height=\"55\"><rect x=\"0\" y=\"0\" width=\"55\" height=\"55\" style=\"fill:#1f77b4;stroke-width:2;stroke:rgb(255,255,255)\"/><rect x=\"55\" y=\"0\" width=\"55\" height=\"55\" style=\"fill:#ff7f0e;stroke-width:2;stroke:rgb(255,255,255)\"/><rect x=\"110\" y=\"0\" width=\"55\" height=\"55\" style=\"fill:#2ca02c;stroke-width:2;stroke:rgb(255,255,255)\"/><rect x=\"165\" y=\"0\" width=\"55\" height=\"55\" style=\"fill:#d62728;stroke-width:2;stroke:rgb(255,255,255)\"/><rect x=\"220\" y=\"0\" width=\"55\" height=\"55\" style=\"fill:#9467bd;stroke-width:2;stroke:rgb(255,255,255)\"/><rect x=\"275\" y=\"0\" width=\"55\" height=\"55\" style=\"fill:#8c564b;stroke-width:2;stroke:rgb(255,255,255)\"/><rect x=\"330\" y=\"0\" width=\"55\" height=\"55\" style=\"fill:#e377c2;stroke-width:2;stroke:rgb(255,255,255)\"/><rect x=\"385\" y=\"0\" width=\"55\" height=\"55\" style=\"fill:#7f7f7f;stroke-width:2;stroke:rgb(255,255,255)\"/><rect x=\"440\" y=\"0\" width=\"55\" height=\"55\" style=\"fill:#bcbd22;stroke-width:2;stroke:rgb(255,255,255)\"/><rect x=\"495\" y=\"0\" width=\"55\" height=\"55\" style=\"fill:#17becf;stroke-width:2;stroke:rgb(255,255,255)\"/></svg>"
      ],
      "text/plain": [
       "[(0.12156862745098039, 0.4666666666666667, 0.7058823529411765),\n",
       " (1.0, 0.4980392156862745, 0.054901960784313725),\n",
       " (0.17254901960784313, 0.6274509803921569, 0.17254901960784313),\n",
       " (0.8392156862745098, 0.15294117647058825, 0.1568627450980392),\n",
       " (0.5803921568627451, 0.403921568627451, 0.7411764705882353),\n",
       " (0.5490196078431373, 0.33725490196078434, 0.29411764705882354),\n",
       " (0.8901960784313725, 0.4666666666666667, 0.7607843137254902),\n",
       " (0.4980392156862745, 0.4980392156862745, 0.4980392156862745),\n",
       " (0.7372549019607844, 0.7411764705882353, 0.13333333333333333),\n",
       " (0.09019607843137255, 0.7450980392156863, 0.8117647058823529)]"
      ]
     },
     "execution_count": 3,
     "metadata": {},
     "output_type": "execute_result"
    }
   ],
   "source": [
    "sns.color_palette()"
   ]
  },
  {
   "cell_type": "markdown",
   "metadata": {},
   "source": [
    "## Age/Gender Analysis <a class=\"anchor\" id=\"section32\"></a>"
   ]
  },
  {
   "cell_type": "markdown",
   "metadata": {},
   "source": [
    "### Age Analysis (in which category participants' age fall into)"
   ]
  },
  {
   "cell_type": "code",
   "execution_count": 4,
   "metadata": {},
   "outputs": [
    {
     "data": {
      "text/plain": [
       "95"
      ]
     },
     "execution_count": 4,
     "metadata": {},
     "output_type": "execute_result"
    }
   ],
   "source": [
    "# check if there are missing values\n",
    "dataset.isna().sum()['age']"
   ]
  },
  {
   "cell_type": "code",
   "execution_count": 5,
   "metadata": {},
   "outputs": [
    {
     "data": {
      "text/plain": [
       "[Text(0.5, 0, 'Age'),\n",
       " Text(0, 0.5, 'Number of Subjects'),\n",
       " Text(0.5, 1.0, 'Age Distribution')]"
      ]
     },
     "execution_count": 5,
     "metadata": {},
     "output_type": "execute_result"
    },
    {
     "data": {
      "image/png": "[encoded data removed]",
      "text/plain": [
       "<Figure size 720x360 with 1 Axes>"
      ]
     },
     "metadata": {
      "needs_background": "light"
     },
     "output_type": "display_data"
    }
   ],
   "source": [
    "#Age Distribution using Seaborn\n",
    "plt.figure(figsize=(10, 5))\n",
    "sns.set_palette('bright')\n",
    "ax = sns.histplot(dataset['age'], kde=True, binwidth=1, color='r')\n",
    "ax.set(xlabel=\"Age\", ylabel=\"Number of Subjects\", title=\"Age Distribution\")"
   ]
  },
  {
   "cell_type": "markdown",
   "metadata": {},
   "source": [
    "🗒 **OBSERVATION**  \n",
    "* Most of the participants are aged between 20 and 35 years old.\n",
    "* The distribution is right skewed because of the very few subjects aged more than 35 years  \n",
    "* The most convinient imputation technique if there are missing values for this case is the median imputation. "
   ]
  },
  {
   "cell_type": "code",
   "execution_count": 6,
   "metadata": {},
   "outputs": [
    {
     "data": {
      "text/plain": [
       "27.0    1059\n",
       "23.0     894\n",
       "26.0     869\n",
       "24.0     863\n",
       "25.0     837\n",
       "28.0     746\n",
       "22.0     655\n",
       "29.0     589\n",
       "30.0     574\n",
       "21.0     291\n",
       "32.0     210\n",
       "33.0     161\n",
       "34.0     152\n",
       "31.0     125\n",
       "35.0      60\n",
       "20.0      55\n",
       "36.0      45\n",
       "19.0      20\n",
       "42.0      20\n",
       "38.0      19\n",
       "39.0      18\n",
       "18.0      10\n",
       "55.0       6\n",
       "37.0       5\n",
       "Name: age, dtype: int64"
      ]
     },
     "execution_count": 6,
     "metadata": {},
     "output_type": "execute_result"
    }
   ],
   "source": [
    "# most common age of participants\n",
    "dataset[\"age\"].value_counts()"
   ]
  },
  {
   "cell_type": "code",
   "execution_count": 7,
   "metadata": {},
   "outputs": [],
   "source": [
    "# assign all NaN values in the age column to the average age\n",
    "dataset[\"age\"] = dataset[\"age\"].fillna(round(dataset[\"age\"].median(),1))\n",
    "dataset[\"age\"] = dataset[\"age\"].astype(int)"
   ]
  },
  {
   "cell_type": "code",
   "execution_count": 8,
   "metadata": {},
   "outputs": [
    {
     "data": {
      "text/plain": [
       "0"
      ]
     },
     "execution_count": 8,
     "metadata": {},
     "output_type": "execute_result"
    }
   ],
   "source": [
    "dataset.isna().sum()['age']"
   ]
  },
  {
   "cell_type": "code",
   "execution_count": 9,
   "metadata": {},
   "outputs": [
    {
     "data": {
      "image/png": "[encoded data removed]",
      "text/plain": [
       "<Figure size 720x360 with 1 Axes>"
      ]
     },
     "metadata": {
      "needs_background": "light"
     },
     "output_type": "display_data"
    }
   ],
   "source": [
    "#Age Distribution using Matplotlib\n",
    "plt.figure(figsize=(10, 5))\n",
    "plt.title(\"Age Distribution\")\n",
    "plt.xlabel(\"Age\")\n",
    "plt.ylabel(\"Number of Subjects\")\n",
    "bins = bins = np.arange(dataset.age.min(),dataset.age.max()+1, 1)\n",
    "histo = plt.hist(data=dataset, x=\"age\", bins = bins, facecolor = 'r')\n",
    "plt.show()"
   ]
  },
  {
   "cell_type": "code",
   "execution_count": 10,
   "metadata": {},
   "outputs": [
    {
     "data": {
      "image/png": "[encoded data removed]",
      "text/plain": [
       "<Figure size 720x360 with 1 Axes>"
      ]
     },
     "metadata": {
      "needs_background": "light"
     },
     "output_type": "display_data"
    }
   ],
   "source": [
    "# zooming on age of majority of participants\n",
    "bins = np.arange(dataset.age.min(),dataset.age.max()+0.5, 1)\n",
    "plt.figure(figsize=(10, 5))\n",
    "plt.hist(data=dataset, x=\"age\", bins = bins, color = 'r')\n",
    "plt.title(\"Age Distribution\")\n",
    "plt.xlabel(\"Age\")\n",
    "plt.xlim(18, 37)\n",
    "plt.ylabel(\"Number of Subjects\")\n",
    "plt.show()"
   ]
  },
  {
   "cell_type": "code",
   "execution_count": 11,
   "metadata": {},
   "outputs": [
    {
     "data": {
      "text/plain": [
       "22-31    81.9\n",
       "18-21    12.2\n",
       "32-55     5.8\n",
       "Name: cut_age, dtype: float64"
      ]
     },
     "execution_count": 11,
     "metadata": {},
     "output_type": "execute_result"
    }
   ],
   "source": [
    "pd.qcut(dataset['age'], q=4)\n",
    "cut_labels = ['18-21', '22-31', '32-55']\n",
    "cut_bins = [18, 22, 32, 55]\n",
    "dataset['cut_age'] = pd.cut(dataset['age'], bins=cut_bins, labels=cut_labels)\n",
    "N = dataset['age'].count()\n",
    "round((dataset['cut_age'].value_counts()/N)*100, 1)"
   ]
  },
  {
   "cell_type": "markdown",
   "metadata": {},
   "source": [
    "🗒 **OBSERVATION**  \n",
    "* Most participants were aged 22-31 years (81.9%)  \n",
    "* Older subjects are barely interested in speed dating (only 5.8%)  "
   ]
  },
  {
   "cell_type": "code",
   "execution_count": 12,
   "metadata": {},
   "outputs": [
    {
     "data": {
      "text/plain": [
       "count    8378.000000\n",
       "mean       26.354858\n",
       "std         3.546684\n",
       "min        18.000000\n",
       "25%        24.000000\n",
       "50%        26.000000\n",
       "75%        28.000000\n",
       "max        55.000000\n",
       "Name: age, dtype: float64"
      ]
     },
     "execution_count": 12,
     "metadata": {},
     "output_type": "execute_result"
    }
   ],
   "source": [
    "dataset['age'].describe()"
   ]
  },
  {
   "cell_type": "code",
   "execution_count": 13,
   "metadata": {},
   "outputs": [
    {
     "data": {
      "text/plain": [
       "<AxesSubplot:xlabel='age'>"
      ]
     },
     "execution_count": 13,
     "metadata": {},
     "output_type": "execute_result"
    },
    {
     "data": {
      "image/png": "[encoded data removed]",
      "text/plain": [
       "<Figure size 432x288 with 1 Axes>"
      ]
     },
     "metadata": {
      "needs_background": "light"
     },
     "output_type": "display_data"
    }
   ],
   "source": [
    "sns.boxplot(dataset['age'])"
   ]
  },
  {
   "cell_type": "markdown",
   "metadata": {},
   "source": [
    "🗒 **OBSERVATION**   \n",
    "* the box plot confirms the results of the histogram.  \n",
    "* There is no great variability of age among participants  \n",
    "* Several outliers are observed beyond 35 years old, which confirms the fact that older subjects are not really interested in speed dating"
   ]
  },
  {
   "cell_type": "markdown",
   "metadata": {},
   "source": [
    "### Gender Analysis (which gender is more interested in Speed Dating)"
   ]
  },
  {
   "cell_type": "code",
   "execution_count": 14,
   "metadata": {},
   "outputs": [
    {
     "data": {
      "image/png": "[encoded data removed]",
      "text/plain": [
       "<Figure size 144x360 with 1 Axes>"
      ]
     },
     "metadata": {
      "needs_background": "light"
     },
     "output_type": "display_data"
    }
   ],
   "source": [
    "# barchart of gender analysis\n",
    "plt.figure(figsize=(2,5))\n",
    "bar_color = sns.color_palette()[2]\n",
    "\n",
    "chart = sns.countplot(data = dataset, x='gender_str',color = bar_color, order = dataset['gender_str'].value_counts().index)\n",
    "plt.title(\"Gender Distribution\", fontsize=20)\n",
    "plt.xlabel(\"Gender\")\n",
    "plt.ylabel(\"Number of Subjects\")\n",
    "\n",
    "#as the labels on the axis x are string of important lenght, we should rotate the texts to have clear illustrations\n",
    "chart.set_xticklabels(chart.get_xticklabels(), rotation=45, horizontalalignment='right')\n",
    "\n",
    "# add Number of subjects to each bar\n",
    "for p in chart.patches:\n",
    "    height = p.get_height()\n",
    "    chart.text(p.get_x()+p.get_width()/2.,\n",
    "            height * 1.01,\n",
    "            \"{:,.0f}\".format(height),\n",
    "            ha=\"center\");"
   ]
  },
  {
   "cell_type": "markdown",
   "metadata": {},
   "source": [
    "🗒 **OBSERVATION**  \n",
    "Both genders are equally interested in Speed Dating."
   ]
  },
  {
   "cell_type": "markdown",
   "metadata": {},
   "source": [
    "### Age & Gender Analysis"
   ]
  },
  {
   "cell_type": "code",
   "execution_count": 15,
   "metadata": {},
   "outputs": [
    {
     "data": {
      "image/png": "[encoded data removed]",
      "text/plain": [
       "<Figure size 720x360 with 1 Axes>"
      ]
     },
     "metadata": {
      "needs_background": "light"
     },
     "output_type": "display_data"
    }
   ],
   "source": [
    "#Age Distribution by gender\n",
    "plt.figure(figsize=(10, 5))\n",
    "plt.title(\"Age Distribution by Gender\")\n",
    "plt.xlabel(\"Age\")\n",
    "#plt.xlim(32, 38)\n",
    "plt.ylabel(\"Number of Subjects\")\n",
    "colors = [sns.color_palette()[1], sns.color_palette()[0]]\n",
    "\n",
    "sns.histplot(data=dataset, x='age', hue='gender_str', binwidth=1, kde=False, element='poly', palette=colors)\n",
    "legend = plt.legend(['Male', 'Female'])\n",
    "legend.set_title('Gender')"
   ]
  },
  {
   "cell_type": "markdown",
   "metadata": {},
   "source": [
    "🗒 **OBSERVATION**  \n",
    "In young adulthood (20-27), there is a higher proportion of female participants than males. This pattern was repeated for middle age (34–37). However, a higher proportion of male participants is shown in the age range 28-33."
   ]
  },
  {
   "cell_type": "markdown",
   "metadata": {},
   "source": [
    "## Goal Analysis  (What is the primary goal of subjects in participating in Speed Dating)<a class=\"anchor\" id=\"section32\"></a>"
   ]
  },
  {
   "cell_type": "code",
   "execution_count": 16,
   "metadata": {},
   "outputs": [
    {
     "data": {
      "text/plain": [
       "79"
      ]
     },
     "execution_count": 16,
     "metadata": {},
     "output_type": "execute_result"
    }
   ],
   "source": [
    "#checking for missing values\n",
    "# we will not remove missing data for this variable, we will just consider it as no data\n",
    "dataset.isna().sum()['goal']"
   ]
  },
  {
   "cell_type": "code",
   "execution_count": 17,
   "metadata": {},
   "outputs": [
    {
     "data": {
      "text/plain": [
       "array([ 1.,  2.,  3.,  4.,  5.,  6., nan])"
      ]
     },
     "execution_count": 17,
     "metadata": {},
     "output_type": "execute_result"
    }
   ],
   "source": [
    "# unique values of goal variable\n",
    "np.sort(dataset['goal'].unique())"
   ]
  },
  {
   "cell_type": "code",
   "execution_count": 18,
   "metadata": {},
   "outputs": [
    {
     "data": {
      "text/plain": [
       "1.0    3426\n",
       "2.0    3012\n",
       "3.0     631\n",
       "5.0     510\n",
       "6.0     419\n",
       "4.0     301\n",
       "Name: goal, dtype: int64"
      ]
     },
     "execution_count": 18,
     "metadata": {},
     "output_type": "execute_result"
    }
   ],
   "source": [
    "dataset['goal'].value_counts()"
   ]
  },
  {
   "cell_type": "code",
   "execution_count": 19,
   "metadata": {},
   "outputs": [],
   "source": [
    "# change the goal variables to include string instead of integers while keeping missing data as no data\n",
    "dataset['goal'] = dataset.goal.apply(lambda x: \n",
    "                                     \"fun night out\" if x == 1\n",
    "                                     else \"meet new people\" if x == 2\n",
    "                                     else \"get a date\" if x == 3\n",
    "                                     else \"looking for serious relationship\" if x == 4\n",
    "                                     else \"to say I dit it\" if x == 5\n",
    "                                     else \"other goal\" if x == 6\n",
    "                                     else \"no data\")"
   ]
  },
  {
   "cell_type": "code",
   "execution_count": 20,
   "metadata": {},
   "outputs": [
    {
     "data": {
      "text/plain": [
       "array(['meet new people', 'fun night out', 'other goal', 'get a date',\n",
       "       'looking for serious relationship', 'no data', 'to say I dit it'],\n",
       "      dtype=object)"
      ]
     },
     "execution_count": 20,
     "metadata": {},
     "output_type": "execute_result"
    }
   ],
   "source": [
    "dataset['goal'].unique()"
   ]
  },
  {
   "cell_type": "code",
   "execution_count": 21,
   "metadata": {},
   "outputs": [
    {
     "data": {
      "image/png": "[encoded data removed]",
      "text/plain": [
       "<Figure size 720x360 with 1 Axes>"
      ]
     },
     "metadata": {
      "needs_background": "light"
     },
     "output_type": "display_data"
    }
   ],
   "source": [
    "# barchart of reasons for participating in speed dating events\n",
    "plt.figure(figsize=(10,5))\n",
    "bar_color = sns.color_palette()[0]\n",
    "\n",
    "chart = sns.countplot(data = dataset, x='goal',color = bar_color, order = dataset['goal'].value_counts().index)\n",
    "plt.title(\"Reasons why people go to speed dating events\", fontsize=20)\n",
    "plt.xlabel(\"Goal\")\n",
    "plt.ylabel(\"Number of Subjects\")\n",
    "\n",
    "#as the labels on the axis x are string of important lenght, we should rotate the texts to have clear illustrations\n",
    "chart.set_xticklabels(chart.get_xticklabels(), rotation=45, horizontalalignment='right')\n",
    "\n",
    "# add Number of subjects to each bar\n",
    "for p in chart.patches:\n",
    "    height = p.get_height()\n",
    "    chart.text(p.get_x()+p.get_width()/2.,\n",
    "            height * 1.01,\n",
    "            \"{:,.0f}\".format(height),\n",
    "            ha=\"center\");"
   ]
  },
  {
   "cell_type": "code",
   "execution_count": 22,
   "metadata": {},
   "outputs": [
    {
     "data": {
      "image/png": "[encoded data removed]",
      "text/plain": [
       "<Figure size 720x360 with 2 Axes>"
      ]
     },
     "metadata": {
      "needs_background": "light"
     },
     "output_type": "display_data"
    }
   ],
   "source": [
    "plt.figure(figsize=(10,5))\n",
    "plt.title(\"Reasons why people go to speed dating events\", fontsize=20)\n",
    "plt.xlabel('Goal')\n",
    "plt.ylabel('Frequency [%]')\n",
    "\n",
    "# show the frequencies\n",
    "ax = (dataset.goal.value_counts()/len(dataset)*100).plot(kind=\"bar\")\n",
    "# y axis on the left for the frequency [%]\n",
    "ax.set_yticks(np.arange(0, 110, 10))\n",
    "\n",
    "#as the labels on the axis x are string of important lenght, we should rotate the texts to have clear illustrations\n",
    "chart.set_xticklabels(chart.get_xticklabels(), rotation=45, horizontalalignment='right')\n",
    "\n",
    "# y axis on the right for the number of subjects\n",
    "ax2 = ax.twinx()\n",
    "ax2.set_yticks(np.arange(0, 110, 10)*len(dataset)/100)\n",
    "\n",
    "for p in ax.patches:\n",
    "    ax.annotate('{:.2f}%'.format(p.get_height()), (p.get_x()+0.15, p.get_height()+1), ha=\"center\")\n",
    "\n",
    "    \n",
    "# pie chart"
   ]
  },
  {
   "cell_type": "markdown",
   "metadata": {},
   "source": [
    "🗒 **OBSERVATION**    \n",
    "Most people go to speed dating events to have fun night out (40,89%) or meet new people (35,95%).  \n",
    "Getting a date is actually the primary goal for only 7,53 % of participants."
   ]
  },
  {
   "cell_type": "code",
   "execution_count": 23,
   "metadata": {},
   "outputs": [
    {
     "data": {
      "image/png": "[encoded data removed]",
      "text/plain": [
       "<Figure size 720x360 with 1 Axes>"
      ]
     },
     "metadata": {
      "needs_background": "light"
     },
     "output_type": "display_data"
    }
   ],
   "source": [
    "# barchart of reasons for participating in speed dating events\n",
    "plt.figure(figsize=(10,5))\n",
    "bar_colors = [sns.color_palette()[1], sns.color_palette()[0]]\n",
    "\n",
    "chart = sns.countplot(data = dataset, x='goal', hue='gender_str', palette = bar_colors, order = dataset['goal'].value_counts().index)\n",
    "plt.title(\"Reasons per Gender why people go to speed dating events\", fontsize=20)\n",
    "plt.xlabel(\"Goal\")\n",
    "plt.ylabel(\"Number of Subjects\")\n",
    "\n",
    "#as the labels on the axis x are string of important lenght, we should rotate the texts to have clear illustrations\n",
    "chart.set_xticklabels(chart.get_xticklabels(), rotation=45, horizontalalignment='right')\n",
    "\n",
    "# add Number of subjects to each bar\n",
    "for p in chart.patches:\n",
    "    height = p.get_height()\n",
    "    chart.text(p.get_x()+p.get_width()/2.,\n",
    "            height * 1.01,\n",
    "            \"{:,.0f}\".format(height),\n",
    "            ha=\"center\");\n",
    "\n",
    "legend = plt.legend(['Female', 'Male'])\n",
    "legend.set_title('Gender')"
   ]
  },
  {
   "cell_type": "markdown",
   "metadata": {},
   "source": [
    "🗒 **OBSERVATION**    \n",
    "Females are more interested in meeting new people but less interested in getting a date."
   ]
  },
  {
   "cell_type": "markdown",
   "metadata": {},
   "source": [
    "## Attributes that participants look for in their partners<a class=\"anchor\" id=\"section33\"></a>"
   ]
  },
  {
   "cell_type": "code",
   "execution_count": 24,
   "metadata": {},
   "outputs": [],
   "source": [
    "# extract attributes related data and change the columns lables, all with the subject identifer and his gender\n",
    "attributes = dataset[['iid','gender_str','attr1_1', 'sinc1_1','intel1_1','fun1_1','amb1_1','shar1_1']]\n",
    "attributes.columns = ['id', 'gender','attractive', 'sincere','intelligent','fun','ambitious','shared_interests'] "
   ]
  },
  {
   "cell_type": "code",
   "execution_count": 25,
   "metadata": {},
   "outputs": [
    {
     "name": "stdout",
     "output_type": "stream",
     "text": [
      "No duplicated rows found\n"
     ]
    }
   ],
   "source": [
    "# check for duplicates, especially in the 'id' column\n",
    "F.duplicates_count(dataset)"
   ]
  },
  {
   "cell_type": "code",
   "execution_count": 26,
   "metadata": {},
   "outputs": [
    {
     "data": {
      "text/plain": [
       "0.00        79\n",
       "90.00       65\n",
       "95.00       22\n",
       "99.98       26\n",
       "99.99       16\n",
       "99.99       82\n",
       "99.99      199\n",
       "100.00      56\n",
       "100.00    7142\n",
       "100.00     110\n",
       "100.01     127\n",
       "100.01     239\n",
       "100.02      56\n",
       "100.02      92\n",
       "101.00      10\n",
       "110.00      22\n",
       "120.00      25\n",
       "148.00      10\n",
       "Name: sum, dtype: int64"
      ]
     },
     "execution_count": 26,
     "metadata": {},
     "output_type": "execute_result"
    }
   ],
   "source": [
    "# add a new column to sum up the rates of the different attributes\n",
    "attributes['sum']= attributes.iloc[:,2:].sum(axis=1)\n",
    "attributes['sum'].value_counts().sort_index()"
   ]
  },
  {
   "cell_type": "markdown",
   "metadata": {},
   "source": [
    "<pre>\n",
    "📝 <b>Note</b>\n",
    "<div style=\"background-color:#C2F2ED;\">\n",
    "<li>the sum 0 means that all entries are missing so we drop those observations  \n",
    "<li>the data is not normalised as different scales are used as mentioned in the data description, hence we should normalize the data in order to get significative results\n",
    "</div> </pre> "
   ]
  },
  {
   "cell_type": "code",
   "execution_count": 27,
   "metadata": {},
   "outputs": [],
   "source": [
    "# drop rows where all attributes were not rated \n",
    "index = attributes[attributes['sum']==0].index\n",
    "attributes.drop(index=index, inplace=True, errors='raise')"
   ]
  },
  {
   "cell_type": "code",
   "execution_count": 28,
   "metadata": {},
   "outputs": [],
   "source": [
    "## Normalize\n",
    "##all values will be redistributed and curved to fit 100 total points using the rule x_norm = x /sum * 100\n",
    "for col in attributes.columns[2:]:\n",
    "    attributes[col] = round((attributes[col] / attributes['sum'])*100,2)"
   ]
  },
  {
   "cell_type": "code",
   "execution_count": 29,
   "metadata": {},
   "outputs": [
    {
     "data": {
      "text/html": [
       "<div>\n",
       "<style scoped>\n",
       "    .dataframe tbody tr th:only-of-type {\n",
       "        vertical-align: middle;\n",
       "    }\n",
       "\n",
       "    .dataframe tbody tr th {\n",
       "        vertical-align: top;\n",
       "    }\n",
       "\n",
       "    .dataframe thead th {\n",
       "        text-align: right;\n",
       "    }\n",
       "</style>\n",
       "<table border=\"1\" class=\"dataframe\">\n",
       "  <thead>\n",
       "    <tr style=\"text-align: right;\">\n",
       "      <th></th>\n",
       "      <th>id</th>\n",
       "      <th>gender</th>\n",
       "      <th>attractive</th>\n",
       "      <th>sincere</th>\n",
       "      <th>intelligent</th>\n",
       "      <th>fun</th>\n",
       "      <th>ambitious</th>\n",
       "      <th>shared_interests</th>\n",
       "      <th>sum</th>\n",
       "    </tr>\n",
       "  </thead>\n",
       "  <tbody>\n",
       "    <tr>\n",
       "      <th>0</th>\n",
       "      <td>1</td>\n",
       "      <td>Female</td>\n",
       "      <td>15.0</td>\n",
       "      <td>20.0</td>\n",
       "      <td>20.0</td>\n",
       "      <td>15.0</td>\n",
       "      <td>15.0</td>\n",
       "      <td>15.0</td>\n",
       "      <td>100.0</td>\n",
       "    </tr>\n",
       "    <tr>\n",
       "      <th>1</th>\n",
       "      <td>1</td>\n",
       "      <td>Female</td>\n",
       "      <td>15.0</td>\n",
       "      <td>20.0</td>\n",
       "      <td>20.0</td>\n",
       "      <td>15.0</td>\n",
       "      <td>15.0</td>\n",
       "      <td>15.0</td>\n",
       "      <td>100.0</td>\n",
       "    </tr>\n",
       "    <tr>\n",
       "      <th>2</th>\n",
       "      <td>1</td>\n",
       "      <td>Female</td>\n",
       "      <td>15.0</td>\n",
       "      <td>20.0</td>\n",
       "      <td>20.0</td>\n",
       "      <td>15.0</td>\n",
       "      <td>15.0</td>\n",
       "      <td>15.0</td>\n",
       "      <td>100.0</td>\n",
       "    </tr>\n",
       "    <tr>\n",
       "      <th>3</th>\n",
       "      <td>1</td>\n",
       "      <td>Female</td>\n",
       "      <td>15.0</td>\n",
       "      <td>20.0</td>\n",
       "      <td>20.0</td>\n",
       "      <td>15.0</td>\n",
       "      <td>15.0</td>\n",
       "      <td>15.0</td>\n",
       "      <td>100.0</td>\n",
       "    </tr>\n",
       "    <tr>\n",
       "      <th>4</th>\n",
       "      <td>1</td>\n",
       "      <td>Female</td>\n",
       "      <td>15.0</td>\n",
       "      <td>20.0</td>\n",
       "      <td>20.0</td>\n",
       "      <td>15.0</td>\n",
       "      <td>15.0</td>\n",
       "      <td>15.0</td>\n",
       "      <td>100.0</td>\n",
       "    </tr>\n",
       "    <tr>\n",
       "      <th>...</th>\n",
       "      <td>...</td>\n",
       "      <td>...</td>\n",
       "      <td>...</td>\n",
       "      <td>...</td>\n",
       "      <td>...</td>\n",
       "      <td>...</td>\n",
       "      <td>...</td>\n",
       "      <td>...</td>\n",
       "      <td>...</td>\n",
       "    </tr>\n",
       "    <tr>\n",
       "      <th>8373</th>\n",
       "      <td>552</td>\n",
       "      <td>Male</td>\n",
       "      <td>70.0</td>\n",
       "      <td>0.0</td>\n",
       "      <td>15.0</td>\n",
       "      <td>15.0</td>\n",
       "      <td>0.0</td>\n",
       "      <td>0.0</td>\n",
       "      <td>100.0</td>\n",
       "    </tr>\n",
       "    <tr>\n",
       "      <th>8374</th>\n",
       "      <td>552</td>\n",
       "      <td>Male</td>\n",
       "      <td>70.0</td>\n",
       "      <td>0.0</td>\n",
       "      <td>15.0</td>\n",
       "      <td>15.0</td>\n",
       "      <td>0.0</td>\n",
       "      <td>0.0</td>\n",
       "      <td>100.0</td>\n",
       "    </tr>\n",
       "    <tr>\n",
       "      <th>8375</th>\n",
       "      <td>552</td>\n",
       "      <td>Male</td>\n",
       "      <td>70.0</td>\n",
       "      <td>0.0</td>\n",
       "      <td>15.0</td>\n",
       "      <td>15.0</td>\n",
       "      <td>0.0</td>\n",
       "      <td>0.0</td>\n",
       "      <td>100.0</td>\n",
       "    </tr>\n",
       "    <tr>\n",
       "      <th>8376</th>\n",
       "      <td>552</td>\n",
       "      <td>Male</td>\n",
       "      <td>70.0</td>\n",
       "      <td>0.0</td>\n",
       "      <td>15.0</td>\n",
       "      <td>15.0</td>\n",
       "      <td>0.0</td>\n",
       "      <td>0.0</td>\n",
       "      <td>100.0</td>\n",
       "    </tr>\n",
       "    <tr>\n",
       "      <th>8377</th>\n",
       "      <td>552</td>\n",
       "      <td>Male</td>\n",
       "      <td>70.0</td>\n",
       "      <td>0.0</td>\n",
       "      <td>15.0</td>\n",
       "      <td>15.0</td>\n",
       "      <td>0.0</td>\n",
       "      <td>0.0</td>\n",
       "      <td>100.0</td>\n",
       "    </tr>\n",
       "  </tbody>\n",
       "</table>\n",
       "<p>8299 rows × 9 columns</p>\n",
       "</div>"
      ],
      "text/plain": [
       "       id  gender  attractive  sincere  intelligent   fun  ambitious  \\\n",
       "0       1  Female        15.0     20.0         20.0  15.0       15.0   \n",
       "1       1  Female        15.0     20.0         20.0  15.0       15.0   \n",
       "2       1  Female        15.0     20.0         20.0  15.0       15.0   \n",
       "3       1  Female        15.0     20.0         20.0  15.0       15.0   \n",
       "4       1  Female        15.0     20.0         20.0  15.0       15.0   \n",
       "...   ...     ...         ...      ...          ...   ...        ...   \n",
       "8373  552    Male        70.0      0.0         15.0  15.0        0.0   \n",
       "8374  552    Male        70.0      0.0         15.0  15.0        0.0   \n",
       "8375  552    Male        70.0      0.0         15.0  15.0        0.0   \n",
       "8376  552    Male        70.0      0.0         15.0  15.0        0.0   \n",
       "8377  552    Male        70.0      0.0         15.0  15.0        0.0   \n",
       "\n",
       "      shared_interests    sum  \n",
       "0                 15.0  100.0  \n",
       "1                 15.0  100.0  \n",
       "2                 15.0  100.0  \n",
       "3                 15.0  100.0  \n",
       "4                 15.0  100.0  \n",
       "...                ...    ...  \n",
       "8373               0.0  100.0  \n",
       "8374               0.0  100.0  \n",
       "8375               0.0  100.0  \n",
       "8376               0.0  100.0  \n",
       "8377               0.0  100.0  \n",
       "\n",
       "[8299 rows x 9 columns]"
      ]
     },
     "execution_count": 29,
     "metadata": {},
     "output_type": "execute_result"
    }
   ],
   "source": [
    "#del attributes['sum']\n",
    "attributes"
   ]
  },
  {
   "cell_type": "code",
   "execution_count": 30,
   "metadata": {},
   "outputs": [
    {
     "data": {
      "text/plain": [
       "attractive          22.509522\n",
       "intelligent         20.263096\n",
       "fun                 17.451919\n",
       "sincere             17.387194\n",
       "shared_interests    11.835349\n",
       "ambitious           10.659928\n",
       "dtype: float64"
      ]
     },
     "execution_count": 30,
     "metadata": {},
     "output_type": "execute_result"
    }
   ],
   "source": [
    "attributes.iloc[:,2:8].mean().sort_values(ascending=False)"
   ]
  },
  {
   "cell_type": "code",
   "execution_count": 31,
   "metadata": {},
   "outputs": [
    {
     "data": {
      "image/png": "[encoded data removed]",
      "text/plain": [
       "<Figure size 432x288 with 1 Axes>"
      ]
     },
     "metadata": {},
     "output_type": "display_data"
    }
   ],
   "source": [
    "# Radar Chart or spider plot\n",
    "\n",
    "# 1) data\n",
    "radar_data = attributes.groupby('gender').mean().iloc[:,1:7]\n",
    "\n",
    "# 2) Number of variables\n",
    "categories = list(radar_data.columns)\n",
    "N = len(categories)\n",
    "\n",
    "# 3) the angle of each axis in the plot? (we divide the plot / number of variable)\n",
    "angles = [n / float(N) * 2 * pi for n in range(N)]\n",
    "angles += angles[:1]\n",
    "\n",
    "# Initialise the spider plot\n",
    "ax = plt.subplot(111, polar=True)\n",
    "\n",
    "# If you want the first axis to be on top:\n",
    "ax.set_theta_offset(pi / 2)\n",
    "ax.set_theta_direction(-1)\n",
    "\n",
    "# Draw one axe per variable + add labels\n",
    "plt.xticks(angles[:-1], categories)\n",
    "\n",
    "# Draw ylabels\n",
    "ax.set_rlabel_position(0)\n",
    "plt.yticks([10,20,30], [\"10\",\"20\",\"30\"], color=\"grey\", size=7)\n",
    "plt.ylim(0,30)\n",
    "\n",
    "# add plots\n",
    "# Female\n",
    "values=radar_data.loc['Female'].values.flatten().tolist()\n",
    "values += values[:1]\n",
    "ax.plot(angles, values, linewidth=1, linestyle='solid', label=\"Female\", color='r')\n",
    "ax.fill(angles, values, 'r', alpha=0.1)\n",
    "\n",
    "# Male\n",
    "values=radar_data.loc['Male'].values.flatten().tolist()\n",
    "values += values[:1]\n",
    "ax.plot(angles, values, linewidth=1, linestyle='solid', label=\"Male\", color='b')\n",
    "ax.fill(angles, values, 'b', alpha=0.1)\n",
    "\n",
    "# Add legend\n",
    "plt.legend(loc='upper right', bbox_to_anchor=(0.1, 0.1))\n",
    "\n",
    "# add title \n",
    "plt.title(\"Attributes that participants look for in their partners \\n\")\n",
    "# Show the graph\n",
    "plt.show()"
   ]
  },
  {
   "cell_type": "markdown",
   "metadata": {},
   "source": [
    "🗒 **OBSERVATION**    \n",
    "There is an obvious difference between what male and female participants are looking for in their partners  \n",
    "* For male participants, attractiveness is given a lot more weight, whereas ambition or shared interests are the lowest ranked.  \n",
    "* For females, the points are more evenly distributed across all of the attributes, with intelligence ranked slightly higher.\n",
    "* There is no particular difference between male and female participants for some attributes like fun and intelligence"
   ]
  },
  {
   "cell_type": "markdown",
   "metadata": {},
   "source": [
    "## Which of the 6 Attributes Actually Influence Decision Making<a class=\"anchor\" id=\"section34\"></a>"
   ]
  },
  {
   "cell_type": "code",
   "execution_count": 32,
   "metadata": {},
   "outputs": [
    {
     "data": {
      "text/plain": [
       "10"
      ]
     },
     "execution_count": 32,
     "metadata": {},
     "output_type": "execute_result"
    }
   ],
   "source": [
    "dataset.isna().sum()['pid']"
   ]
  },
  {
   "cell_type": "code",
   "execution_count": 33,
   "metadata": {},
   "outputs": [
    {
     "data": {
      "text/html": [
       "<div>\n",
       "<style scoped>\n",
       "    .dataframe tbody tr th:only-of-type {\n",
       "        vertical-align: middle;\n",
       "    }\n",
       "\n",
       "    .dataframe tbody tr th {\n",
       "        vertical-align: top;\n",
       "    }\n",
       "\n",
       "    .dataframe thead th {\n",
       "        text-align: right;\n",
       "    }\n",
       "</style>\n",
       "<table border=\"1\" class=\"dataframe\">\n",
       "  <thead>\n",
       "    <tr style=\"text-align: right;\">\n",
       "      <th></th>\n",
       "      <th>id</th>\n",
       "      <th>partner_id</th>\n",
       "      <th>decision</th>\n",
       "      <th>gender</th>\n",
       "      <th>attractive</th>\n",
       "      <th>sincere</th>\n",
       "      <th>intelligent</th>\n",
       "      <th>fun</th>\n",
       "      <th>ambitious</th>\n",
       "      <th>shared_interests</th>\n",
       "      <th>like</th>\n",
       "      <th>probability</th>\n",
       "    </tr>\n",
       "  </thead>\n",
       "  <tbody>\n",
       "    <tr>\n",
       "      <th>0</th>\n",
       "      <td>1</td>\n",
       "      <td>11.0</td>\n",
       "      <td>1</td>\n",
       "      <td>Female</td>\n",
       "      <td>6.0</td>\n",
       "      <td>9.0</td>\n",
       "      <td>7.0</td>\n",
       "      <td>7.0</td>\n",
       "      <td>6.0</td>\n",
       "      <td>5.0</td>\n",
       "      <td>7.0</td>\n",
       "      <td>6.0</td>\n",
       "    </tr>\n",
       "    <tr>\n",
       "      <th>1</th>\n",
       "      <td>1</td>\n",
       "      <td>12.0</td>\n",
       "      <td>1</td>\n",
       "      <td>Female</td>\n",
       "      <td>7.0</td>\n",
       "      <td>8.0</td>\n",
       "      <td>7.0</td>\n",
       "      <td>8.0</td>\n",
       "      <td>5.0</td>\n",
       "      <td>6.0</td>\n",
       "      <td>7.0</td>\n",
       "      <td>5.0</td>\n",
       "    </tr>\n",
       "    <tr>\n",
       "      <th>2</th>\n",
       "      <td>1</td>\n",
       "      <td>13.0</td>\n",
       "      <td>1</td>\n",
       "      <td>Female</td>\n",
       "      <td>5.0</td>\n",
       "      <td>8.0</td>\n",
       "      <td>9.0</td>\n",
       "      <td>8.0</td>\n",
       "      <td>5.0</td>\n",
       "      <td>7.0</td>\n",
       "      <td>7.0</td>\n",
       "      <td>NaN</td>\n",
       "    </tr>\n",
       "    <tr>\n",
       "      <th>3</th>\n",
       "      <td>1</td>\n",
       "      <td>14.0</td>\n",
       "      <td>1</td>\n",
       "      <td>Female</td>\n",
       "      <td>7.0</td>\n",
       "      <td>6.0</td>\n",
       "      <td>8.0</td>\n",
       "      <td>7.0</td>\n",
       "      <td>6.0</td>\n",
       "      <td>8.0</td>\n",
       "      <td>7.0</td>\n",
       "      <td>6.0</td>\n",
       "    </tr>\n",
       "    <tr>\n",
       "      <th>4</th>\n",
       "      <td>1</td>\n",
       "      <td>15.0</td>\n",
       "      <td>1</td>\n",
       "      <td>Female</td>\n",
       "      <td>5.0</td>\n",
       "      <td>6.0</td>\n",
       "      <td>7.0</td>\n",
       "      <td>7.0</td>\n",
       "      <td>6.0</td>\n",
       "      <td>6.0</td>\n",
       "      <td>6.0</td>\n",
       "      <td>6.0</td>\n",
       "    </tr>\n",
       "  </tbody>\n",
       "</table>\n",
       "</div>"
      ],
      "text/plain": [
       "   id  partner_id  decision  gender  attractive  sincere  intelligent  fun  \\\n",
       "0   1        11.0         1  Female         6.0      9.0          7.0  7.0   \n",
       "1   1        12.0         1  Female         7.0      8.0          7.0  8.0   \n",
       "2   1        13.0         1  Female         5.0      8.0          9.0  8.0   \n",
       "3   1        14.0         1  Female         7.0      6.0          8.0  7.0   \n",
       "4   1        15.0         1  Female         5.0      6.0          7.0  7.0   \n",
       "\n",
       "   ambitious  shared_interests  like  probability  \n",
       "0        6.0               5.0   7.0          6.0  \n",
       "1        5.0               6.0   7.0          5.0  \n",
       "2        5.0               7.0   7.0          NaN  \n",
       "3        6.0               8.0   7.0          6.0  \n",
       "4        6.0               6.0   6.0          6.0  "
      ]
     },
     "execution_count": 33,
     "metadata": {},
     "output_type": "execute_result"
    }
   ],
   "source": [
    "mask = pd.isna(dataset['pid'])==False\n",
    "data_event = dataset.loc[mask][['iid','pid', 'dec', 'gender_str','attr', 'sinc','intel','fun','amb','shar', 'like', 'prob']]\n",
    "data_event.columns = ['id', 'partner_id', 'decision','gender','attractive', 'sincere','intelligent','fun','ambitious','shared_interests', 'like','probability']\n",
    "data_event.head()"
   ]
  },
  {
   "cell_type": "code",
   "execution_count": 34,
   "metadata": {},
   "outputs": [
    {
     "data": {
      "text/html": [
       "<div>\n",
       "<style scoped>\n",
       "    .dataframe tbody tr th:only-of-type {\n",
       "        vertical-align: middle;\n",
       "    }\n",
       "\n",
       "    .dataframe tbody tr th {\n",
       "        vertical-align: top;\n",
       "    }\n",
       "\n",
       "    .dataframe thead th {\n",
       "        text-align: right;\n",
       "    }\n",
       "</style>\n",
       "<table border=\"1\" class=\"dataframe\">\n",
       "  <thead>\n",
       "    <tr style=\"text-align: right;\">\n",
       "      <th></th>\n",
       "      <th>Variable</th>\n",
       "      <th>n_missing</th>\n",
       "      <th>p_missing</th>\n",
       "    </tr>\n",
       "  </thead>\n",
       "  <tbody>\n",
       "    <tr>\n",
       "      <th>9</th>\n",
       "      <td>shared_interests</td>\n",
       "      <td>1066</td>\n",
       "      <td>12.74</td>\n",
       "    </tr>\n",
       "    <tr>\n",
       "      <th>8</th>\n",
       "      <td>ambitious</td>\n",
       "      <td>712</td>\n",
       "      <td>8.51</td>\n",
       "    </tr>\n",
       "    <tr>\n",
       "      <th>7</th>\n",
       "      <td>fun</td>\n",
       "      <td>350</td>\n",
       "      <td>4.18</td>\n",
       "    </tr>\n",
       "    <tr>\n",
       "      <th>11</th>\n",
       "      <td>probability</td>\n",
       "      <td>308</td>\n",
       "      <td>3.68</td>\n",
       "    </tr>\n",
       "    <tr>\n",
       "      <th>6</th>\n",
       "      <td>intelligent</td>\n",
       "      <td>296</td>\n",
       "      <td>3.54</td>\n",
       "    </tr>\n",
       "    <tr>\n",
       "      <th>5</th>\n",
       "      <td>sincere</td>\n",
       "      <td>277</td>\n",
       "      <td>3.31</td>\n",
       "    </tr>\n",
       "    <tr>\n",
       "      <th>10</th>\n",
       "      <td>like</td>\n",
       "      <td>240</td>\n",
       "      <td>2.87</td>\n",
       "    </tr>\n",
       "    <tr>\n",
       "      <th>4</th>\n",
       "      <td>attractive</td>\n",
       "      <td>202</td>\n",
       "      <td>2.41</td>\n",
       "    </tr>\n",
       "  </tbody>\n",
       "</table>\n",
       "</div>"
      ],
      "text/plain": [
       "            Variable  n_missing  p_missing\n",
       "9   shared_interests       1066      12.74\n",
       "8          ambitious        712       8.51\n",
       "7                fun        350       4.18\n",
       "11       probability        308       3.68\n",
       "6        intelligent        296       3.54\n",
       "5            sincere        277       3.31\n",
       "10              like        240       2.87\n",
       "4         attractive        202       2.41"
      ]
     },
     "execution_count": 34,
     "metadata": {},
     "output_type": "execute_result"
    }
   ],
   "source": [
    "# check for missing values\n",
    "F.missing(data_event)"
   ]
  },
  {
   "cell_type": "code",
   "execution_count": 35,
   "metadata": {},
   "outputs": [
    {
     "data": {
      "text/plain": [
       "array([ 6. ,  7. ,  5. ,  4. ,  8. ,  9. ,  3. , 10. ,  1. ,  nan,  2. ,\n",
       "        0. ,  6.5,  7.5,  9.5,  8.5,  9.9,  3.5])"
      ]
     },
     "execution_count": 35,
     "metadata": {},
     "output_type": "execute_result"
    }
   ],
   "source": [
    "data_event['attractive'].unique()"
   ]
  },
  {
   "cell_type": "markdown",
   "metadata": {},
   "source": [
    "<pre>\n",
    "📝 <b>Note</b>\n",
    "<div style=\"background-color:#C2F2ED;\">The amount of missing data is important, so we cannot do a full na drop, but we will drop only the rows where all attributes are not rated (missing). To do that, we will:\n",
    "<li> Replace all the na values for the 6 attributes by 1000\n",
    "<li> Only rows that add up to 6*1000 will be dropped   \n",
    "<li> Convert back all rates equal to 1000 as na values   \n",
    "</div> </pre>"
   ]
  },
  {
   "cell_type": "code",
   "execution_count": 36,
   "metadata": {},
   "outputs": [],
   "source": [
    "# replace na values for the 6 attributes by 1000 : fillna / replace\n",
    "# Attributes = [attractive, sincere, intelligent, fun, ambition, shared_interests]\n",
    "\n",
    "data_event.iloc[:, 4:10]= data_event.iloc[:, 4:10].fillna(1000.0)"
   ]
  },
  {
   "cell_type": "code",
   "execution_count": 37,
   "metadata": {},
   "outputs": [
    {
     "data": {
      "text/plain": [
       "192"
      ]
     },
     "execution_count": 37,
     "metadata": {},
     "output_type": "execute_result"
    }
   ],
   "source": [
    "# add a new column to sum up the rates of the different attributes\n",
    "data_event['sum']= data_event.iloc[:,4:10].sum(axis=1)\n",
    "data_event['sum'].value_counts()[6000.0]"
   ]
  },
  {
   "cell_type": "code",
   "execution_count": 38,
   "metadata": {},
   "outputs": [
    {
     "data": {
      "text/plain": [
       "3"
      ]
     },
     "execution_count": 38,
     "metadata": {},
     "output_type": "execute_result"
    }
   ],
   "source": [
    "data_event['sum'].value_counts()[0.0]"
   ]
  },
  {
   "cell_type": "code",
   "execution_count": 39,
   "metadata": {},
   "outputs": [
    {
     "data": {
      "text/plain": [
       "(8173, 13)"
      ]
     },
     "execution_count": 39,
     "metadata": {},
     "output_type": "execute_result"
    }
   ],
   "source": [
    "# drop rows where all attributes were not rated  (sum == 6000) or sum =0.0 (remember scale in [1,10])\n",
    "index = data_event[(data_event['sum'] == 6000.0) | (data_event['sum'] == 0.0)].index\n",
    "data_event.drop(index=index, inplace=True, errors='raise')\n",
    "data_event.shape"
   ]
  },
  {
   "cell_type": "code",
   "execution_count": 40,
   "metadata": {},
   "outputs": [
    {
     "data": {
      "text/html": [
       "<div>\n",
       "<style scoped>\n",
       "    .dataframe tbody tr th:only-of-type {\n",
       "        vertical-align: middle;\n",
       "    }\n",
       "\n",
       "    .dataframe tbody tr th {\n",
       "        vertical-align: top;\n",
       "    }\n",
       "\n",
       "    .dataframe thead th {\n",
       "        text-align: right;\n",
       "    }\n",
       "</style>\n",
       "<table border=\"1\" class=\"dataframe\">\n",
       "  <thead>\n",
       "    <tr style=\"text-align: right;\">\n",
       "      <th></th>\n",
       "      <th>id</th>\n",
       "      <th>partner_id</th>\n",
       "      <th>decision</th>\n",
       "      <th>gender</th>\n",
       "      <th>attractive</th>\n",
       "      <th>sincere</th>\n",
       "      <th>intelligent</th>\n",
       "      <th>fun</th>\n",
       "      <th>ambitious</th>\n",
       "      <th>shared_interests</th>\n",
       "      <th>like</th>\n",
       "      <th>probability</th>\n",
       "      <th>sum</th>\n",
       "    </tr>\n",
       "  </thead>\n",
       "  <tbody>\n",
       "    <tr>\n",
       "      <th>0</th>\n",
       "      <td>1</td>\n",
       "      <td>11.0</td>\n",
       "      <td>1</td>\n",
       "      <td>Female</td>\n",
       "      <td>6.0</td>\n",
       "      <td>9.0</td>\n",
       "      <td>7.0</td>\n",
       "      <td>7.0</td>\n",
       "      <td>6.0</td>\n",
       "      <td>5.0</td>\n",
       "      <td>7.0</td>\n",
       "      <td>6.0</td>\n",
       "      <td>40.0</td>\n",
       "    </tr>\n",
       "    <tr>\n",
       "      <th>1</th>\n",
       "      <td>1</td>\n",
       "      <td>12.0</td>\n",
       "      <td>1</td>\n",
       "      <td>Female</td>\n",
       "      <td>7.0</td>\n",
       "      <td>8.0</td>\n",
       "      <td>7.0</td>\n",
       "      <td>8.0</td>\n",
       "      <td>5.0</td>\n",
       "      <td>6.0</td>\n",
       "      <td>7.0</td>\n",
       "      <td>5.0</td>\n",
       "      <td>41.0</td>\n",
       "    </tr>\n",
       "    <tr>\n",
       "      <th>2</th>\n",
       "      <td>1</td>\n",
       "      <td>13.0</td>\n",
       "      <td>1</td>\n",
       "      <td>Female</td>\n",
       "      <td>5.0</td>\n",
       "      <td>8.0</td>\n",
       "      <td>9.0</td>\n",
       "      <td>8.0</td>\n",
       "      <td>5.0</td>\n",
       "      <td>7.0</td>\n",
       "      <td>7.0</td>\n",
       "      <td>NaN</td>\n",
       "      <td>42.0</td>\n",
       "    </tr>\n",
       "    <tr>\n",
       "      <th>3</th>\n",
       "      <td>1</td>\n",
       "      <td>14.0</td>\n",
       "      <td>1</td>\n",
       "      <td>Female</td>\n",
       "      <td>7.0</td>\n",
       "      <td>6.0</td>\n",
       "      <td>8.0</td>\n",
       "      <td>7.0</td>\n",
       "      <td>6.0</td>\n",
       "      <td>8.0</td>\n",
       "      <td>7.0</td>\n",
       "      <td>6.0</td>\n",
       "      <td>42.0</td>\n",
       "    </tr>\n",
       "    <tr>\n",
       "      <th>4</th>\n",
       "      <td>1</td>\n",
       "      <td>15.0</td>\n",
       "      <td>1</td>\n",
       "      <td>Female</td>\n",
       "      <td>5.0</td>\n",
       "      <td>6.0</td>\n",
       "      <td>7.0</td>\n",
       "      <td>7.0</td>\n",
       "      <td>6.0</td>\n",
       "      <td>6.0</td>\n",
       "      <td>6.0</td>\n",
       "      <td>6.0</td>\n",
       "      <td>37.0</td>\n",
       "    </tr>\n",
       "  </tbody>\n",
       "</table>\n",
       "</div>"
      ],
      "text/plain": [
       "   id  partner_id  decision  gender  attractive  sincere  intelligent  fun  \\\n",
       "0   1        11.0         1  Female         6.0      9.0          7.0  7.0   \n",
       "1   1        12.0         1  Female         7.0      8.0          7.0  8.0   \n",
       "2   1        13.0         1  Female         5.0      8.0          9.0  8.0   \n",
       "3   1        14.0         1  Female         7.0      6.0          8.0  7.0   \n",
       "4   1        15.0         1  Female         5.0      6.0          7.0  7.0   \n",
       "\n",
       "   ambitious  shared_interests  like  probability   sum  \n",
       "0        6.0               5.0   7.0          6.0  40.0  \n",
       "1        5.0               6.0   7.0          5.0  41.0  \n",
       "2        5.0               7.0   7.0          NaN  42.0  \n",
       "3        6.0               8.0   7.0          6.0  42.0  \n",
       "4        6.0               6.0   6.0          6.0  37.0  "
      ]
     },
     "execution_count": 40,
     "metadata": {},
     "output_type": "execute_result"
    }
   ],
   "source": [
    "# convert back 1000 values to na\n",
    "data_event.iloc[:, 4:10]= data_event.iloc[:, 4:10].replace(1000.0, np.nan)\n",
    "data_event.head()"
   ]
  },
  {
   "cell_type": "code",
   "execution_count": 41,
   "metadata": {},
   "outputs": [
    {
     "data": {
      "text/html": [
       "<div>\n",
       "<style scoped>\n",
       "    .dataframe tbody tr th:only-of-type {\n",
       "        vertical-align: middle;\n",
       "    }\n",
       "\n",
       "    .dataframe tbody tr th {\n",
       "        vertical-align: top;\n",
       "    }\n",
       "\n",
       "    .dataframe thead th {\n",
       "        text-align: right;\n",
       "    }\n",
       "</style>\n",
       "<table border=\"1\" class=\"dataframe\">\n",
       "  <thead>\n",
       "    <tr style=\"text-align: right;\">\n",
       "      <th></th>\n",
       "      <th>id</th>\n",
       "      <th>partner_id</th>\n",
       "      <th>decision</th>\n",
       "      <th>gender</th>\n",
       "      <th>attractive</th>\n",
       "      <th>sincere</th>\n",
       "      <th>intelligent</th>\n",
       "      <th>fun</th>\n",
       "      <th>ambitious</th>\n",
       "      <th>shared_interests</th>\n",
       "      <th>like</th>\n",
       "      <th>probability</th>\n",
       "      <th>sum</th>\n",
       "    </tr>\n",
       "  </thead>\n",
       "  <tbody>\n",
       "    <tr>\n",
       "      <th>0</th>\n",
       "      <td>1</td>\n",
       "      <td>11.0</td>\n",
       "      <td>1</td>\n",
       "      <td>Female</td>\n",
       "      <td>6.0</td>\n",
       "      <td>9.0</td>\n",
       "      <td>7.0</td>\n",
       "      <td>7.0</td>\n",
       "      <td>6.0</td>\n",
       "      <td>5.0</td>\n",
       "      <td>7.0</td>\n",
       "      <td>6.0</td>\n",
       "      <td>40.0</td>\n",
       "    </tr>\n",
       "    <tr>\n",
       "      <th>1</th>\n",
       "      <td>1</td>\n",
       "      <td>12.0</td>\n",
       "      <td>1</td>\n",
       "      <td>Female</td>\n",
       "      <td>7.0</td>\n",
       "      <td>8.0</td>\n",
       "      <td>7.0</td>\n",
       "      <td>8.0</td>\n",
       "      <td>5.0</td>\n",
       "      <td>6.0</td>\n",
       "      <td>7.0</td>\n",
       "      <td>5.0</td>\n",
       "      <td>41.0</td>\n",
       "    </tr>\n",
       "    <tr>\n",
       "      <th>2</th>\n",
       "      <td>1</td>\n",
       "      <td>13.0</td>\n",
       "      <td>1</td>\n",
       "      <td>Female</td>\n",
       "      <td>5.0</td>\n",
       "      <td>8.0</td>\n",
       "      <td>9.0</td>\n",
       "      <td>8.0</td>\n",
       "      <td>5.0</td>\n",
       "      <td>7.0</td>\n",
       "      <td>7.0</td>\n",
       "      <td>NaN</td>\n",
       "      <td>42.0</td>\n",
       "    </tr>\n",
       "    <tr>\n",
       "      <th>3</th>\n",
       "      <td>1</td>\n",
       "      <td>14.0</td>\n",
       "      <td>1</td>\n",
       "      <td>Female</td>\n",
       "      <td>7.0</td>\n",
       "      <td>6.0</td>\n",
       "      <td>8.0</td>\n",
       "      <td>7.0</td>\n",
       "      <td>6.0</td>\n",
       "      <td>8.0</td>\n",
       "      <td>7.0</td>\n",
       "      <td>6.0</td>\n",
       "      <td>42.0</td>\n",
       "    </tr>\n",
       "    <tr>\n",
       "      <th>4</th>\n",
       "      <td>1</td>\n",
       "      <td>15.0</td>\n",
       "      <td>1</td>\n",
       "      <td>Female</td>\n",
       "      <td>5.0</td>\n",
       "      <td>6.0</td>\n",
       "      <td>7.0</td>\n",
       "      <td>7.0</td>\n",
       "      <td>6.0</td>\n",
       "      <td>6.0</td>\n",
       "      <td>6.0</td>\n",
       "      <td>6.0</td>\n",
       "      <td>37.0</td>\n",
       "    </tr>\n",
       "    <tr>\n",
       "      <th>...</th>\n",
       "      <td>...</td>\n",
       "      <td>...</td>\n",
       "      <td>...</td>\n",
       "      <td>...</td>\n",
       "      <td>...</td>\n",
       "      <td>...</td>\n",
       "      <td>...</td>\n",
       "      <td>...</td>\n",
       "      <td>...</td>\n",
       "      <td>...</td>\n",
       "      <td>...</td>\n",
       "      <td>...</td>\n",
       "      <td>...</td>\n",
       "    </tr>\n",
       "    <tr>\n",
       "      <th>8373</th>\n",
       "      <td>552</td>\n",
       "      <td>526.0</td>\n",
       "      <td>0</td>\n",
       "      <td>Male</td>\n",
       "      <td>3.0</td>\n",
       "      <td>5.0</td>\n",
       "      <td>5.0</td>\n",
       "      <td>5.0</td>\n",
       "      <td>NaN</td>\n",
       "      <td>NaN</td>\n",
       "      <td>2.0</td>\n",
       "      <td>5.0</td>\n",
       "      <td>18.0</td>\n",
       "    </tr>\n",
       "    <tr>\n",
       "      <th>8374</th>\n",
       "      <td>552</td>\n",
       "      <td>527.0</td>\n",
       "      <td>0</td>\n",
       "      <td>Male</td>\n",
       "      <td>4.0</td>\n",
       "      <td>6.0</td>\n",
       "      <td>8.0</td>\n",
       "      <td>4.0</td>\n",
       "      <td>4.0</td>\n",
       "      <td>NaN</td>\n",
       "      <td>4.0</td>\n",
       "      <td>4.0</td>\n",
       "      <td>26.0</td>\n",
       "    </tr>\n",
       "    <tr>\n",
       "      <th>8375</th>\n",
       "      <td>552</td>\n",
       "      <td>528.0</td>\n",
       "      <td>0</td>\n",
       "      <td>Male</td>\n",
       "      <td>4.0</td>\n",
       "      <td>7.0</td>\n",
       "      <td>8.0</td>\n",
       "      <td>8.0</td>\n",
       "      <td>8.0</td>\n",
       "      <td>NaN</td>\n",
       "      <td>6.0</td>\n",
       "      <td>5.0</td>\n",
       "      <td>35.0</td>\n",
       "    </tr>\n",
       "    <tr>\n",
       "      <th>8376</th>\n",
       "      <td>552</td>\n",
       "      <td>529.0</td>\n",
       "      <td>0</td>\n",
       "      <td>Male</td>\n",
       "      <td>4.0</td>\n",
       "      <td>6.0</td>\n",
       "      <td>5.0</td>\n",
       "      <td>4.0</td>\n",
       "      <td>NaN</td>\n",
       "      <td>5.0</td>\n",
       "      <td>5.0</td>\n",
       "      <td>5.0</td>\n",
       "      <td>24.0</td>\n",
       "    </tr>\n",
       "    <tr>\n",
       "      <th>8377</th>\n",
       "      <td>552</td>\n",
       "      <td>530.0</td>\n",
       "      <td>0</td>\n",
       "      <td>Male</td>\n",
       "      <td>3.0</td>\n",
       "      <td>7.0</td>\n",
       "      <td>6.0</td>\n",
       "      <td>4.0</td>\n",
       "      <td>8.0</td>\n",
       "      <td>1.0</td>\n",
       "      <td>4.0</td>\n",
       "      <td>5.0</td>\n",
       "      <td>29.0</td>\n",
       "    </tr>\n",
       "  </tbody>\n",
       "</table>\n",
       "<p>8173 rows × 13 columns</p>\n",
       "</div>"
      ],
      "text/plain": [
       "       id  partner_id  decision  gender  attractive  sincere  intelligent  \\\n",
       "0       1        11.0         1  Female         6.0      9.0          7.0   \n",
       "1       1        12.0         1  Female         7.0      8.0          7.0   \n",
       "2       1        13.0         1  Female         5.0      8.0          9.0   \n",
       "3       1        14.0         1  Female         7.0      6.0          8.0   \n",
       "4       1        15.0         1  Female         5.0      6.0          7.0   \n",
       "...   ...         ...       ...     ...         ...      ...          ...   \n",
       "8373  552       526.0         0    Male         3.0      5.0          5.0   \n",
       "8374  552       527.0         0    Male         4.0      6.0          8.0   \n",
       "8375  552       528.0         0    Male         4.0      7.0          8.0   \n",
       "8376  552       529.0         0    Male         4.0      6.0          5.0   \n",
       "8377  552       530.0         0    Male         3.0      7.0          6.0   \n",
       "\n",
       "      fun  ambitious  shared_interests  like  probability   sum  \n",
       "0     7.0        6.0               5.0   7.0          6.0  40.0  \n",
       "1     8.0        5.0               6.0   7.0          5.0  41.0  \n",
       "2     8.0        5.0               7.0   7.0          NaN  42.0  \n",
       "3     7.0        6.0               8.0   7.0          6.0  42.0  \n",
       "4     7.0        6.0               6.0   6.0          6.0  37.0  \n",
       "...   ...        ...               ...   ...          ...   ...  \n",
       "8373  5.0        NaN               NaN   2.0          5.0  18.0  \n",
       "8374  4.0        4.0               NaN   4.0          4.0  26.0  \n",
       "8375  8.0        8.0               NaN   6.0          5.0  35.0  \n",
       "8376  4.0        NaN               5.0   5.0          5.0  24.0  \n",
       "8377  4.0        8.0               1.0   4.0          5.0  29.0  \n",
       "\n",
       "[8173 rows x 13 columns]"
      ]
     },
     "execution_count": 41,
     "metadata": {},
     "output_type": "execute_result"
    }
   ],
   "source": [
    "# recompute the sum while skipping nan values\n",
    "data_event['sum']= data_event.iloc[:,4:10].sum(axis=1, skipna=True)\n",
    "data_event"
   ]
  },
  {
   "cell_type": "code",
   "execution_count": 42,
   "metadata": {},
   "outputs": [
    {
     "data": {
      "text/plain": [
       "36.0    404\n",
       "40.0    400\n",
       "41.0    398\n",
       "42.0    389\n",
       "38.0    373\n",
       "Name: sum, dtype: int64"
      ]
     },
     "execution_count": 42,
     "metadata": {},
     "output_type": "execute_result"
    }
   ],
   "source": [
    "data_event['sum'].value_counts().head()"
   ]
  },
  {
   "cell_type": "code",
   "execution_count": 43,
   "metadata": {},
   "outputs": [],
   "source": [
    "# add partner gender\n",
    "data_event['partner_gender'] = np.where(data_event['gender'] == 'Female', 'Male', 'Female')"
   ]
  },
  {
   "cell_type": "code",
   "execution_count": 44,
   "metadata": {},
   "outputs": [
    {
     "data": {
      "text/html": [
       "<div>\n",
       "<style scoped>\n",
       "    .dataframe tbody tr th:only-of-type {\n",
       "        vertical-align: middle;\n",
       "    }\n",
       "\n",
       "    .dataframe tbody tr th {\n",
       "        vertical-align: top;\n",
       "    }\n",
       "\n",
       "    .dataframe thead th {\n",
       "        text-align: right;\n",
       "    }\n",
       "</style>\n",
       "<table border=\"1\" class=\"dataframe\">\n",
       "  <thead>\n",
       "    <tr style=\"text-align: right;\">\n",
       "      <th></th>\n",
       "      <th></th>\n",
       "      <th>decision</th>\n",
       "      <th>attractive</th>\n",
       "      <th>sincere</th>\n",
       "      <th>intelligent</th>\n",
       "      <th>fun</th>\n",
       "      <th>ambitious</th>\n",
       "      <th>shared_interests</th>\n",
       "    </tr>\n",
       "    <tr>\n",
       "      <th>partner_id</th>\n",
       "      <th>partner_gender</th>\n",
       "      <th></th>\n",
       "      <th></th>\n",
       "      <th></th>\n",
       "      <th></th>\n",
       "      <th></th>\n",
       "      <th></th>\n",
       "      <th></th>\n",
       "    </tr>\n",
       "  </thead>\n",
       "  <tbody>\n",
       "    <tr>\n",
       "      <th>1.0</th>\n",
       "      <th>Female</th>\n",
       "      <td>0.5</td>\n",
       "      <td>6.7</td>\n",
       "      <td>7.4</td>\n",
       "      <td>8.0</td>\n",
       "      <td>7.2</td>\n",
       "      <td>8.000000</td>\n",
       "      <td>7.1</td>\n",
       "    </tr>\n",
       "    <tr>\n",
       "      <th>2.0</th>\n",
       "      <th>Female</th>\n",
       "      <td>0.6</td>\n",
       "      <td>7.7</td>\n",
       "      <td>7.1</td>\n",
       "      <td>7.9</td>\n",
       "      <td>7.5</td>\n",
       "      <td>7.500000</td>\n",
       "      <td>6.5</td>\n",
       "    </tr>\n",
       "    <tr>\n",
       "      <th>3.0</th>\n",
       "      <th>Female</th>\n",
       "      <td>0.5</td>\n",
       "      <td>6.5</td>\n",
       "      <td>7.1</td>\n",
       "      <td>7.3</td>\n",
       "      <td>6.2</td>\n",
       "      <td>7.111111</td>\n",
       "      <td>6.0</td>\n",
       "    </tr>\n",
       "    <tr>\n",
       "      <th>4.0</th>\n",
       "      <th>Female</th>\n",
       "      <td>0.6</td>\n",
       "      <td>7.0</td>\n",
       "      <td>7.1</td>\n",
       "      <td>7.7</td>\n",
       "      <td>7.5</td>\n",
       "      <td>7.700000</td>\n",
       "      <td>7.2</td>\n",
       "    </tr>\n",
       "    <tr>\n",
       "      <th>5.0</th>\n",
       "      <th>Female</th>\n",
       "      <td>0.3</td>\n",
       "      <td>5.3</td>\n",
       "      <td>7.7</td>\n",
       "      <td>7.6</td>\n",
       "      <td>7.2</td>\n",
       "      <td>7.800000</td>\n",
       "      <td>6.2</td>\n",
       "    </tr>\n",
       "  </tbody>\n",
       "</table>\n",
       "</div>"
      ],
      "text/plain": [
       "                           decision  attractive  sincere  intelligent  fun  \\\n",
       "partner_id partner_gender                                                    \n",
       "1.0        Female               0.5         6.7      7.4          8.0  7.2   \n",
       "2.0        Female               0.6         7.7      7.1          7.9  7.5   \n",
       "3.0        Female               0.5         6.5      7.1          7.3  6.2   \n",
       "4.0        Female               0.6         7.0      7.1          7.7  7.5   \n",
       "5.0        Female               0.3         5.3      7.7          7.6  7.2   \n",
       "\n",
       "                           ambitious  shared_interests  \n",
       "partner_id partner_gender                               \n",
       "1.0        Female           8.000000               7.1  \n",
       "2.0        Female           7.500000               6.5  \n",
       "3.0        Female           7.111111               6.0  \n",
       "4.0        Female           7.700000               7.2  \n",
       "5.0        Female           7.800000               6.2  "
      ]
     },
     "execution_count": 44,
     "metadata": {},
     "output_type": "execute_result"
    }
   ],
   "source": [
    "graph_data = data_event.groupby(['partner_id', 'partner_gender']).mean().iloc[:, 1:8]\n",
    "graph_data.head()"
   ]
  },
  {
   "cell_type": "code",
   "execution_count": 45,
   "metadata": {},
   "outputs": [],
   "source": [
    "graph_data_1 = graph_data[graph_data['attractive'].notnull()][['decision', 'attractive']]\n",
    "graph_data_2 = graph_data[graph_data['sincere'].notnull()][['decision', 'sincere']]\n",
    "graph_data_3 = graph_data[graph_data['intelligent'].notnull()][['decision', 'intelligent']]\n",
    "graph_data_4 = graph_data[graph_data['fun'].notnull()][['decision', 'fun']]\n",
    "graph_data_5 = graph_data[graph_data['ambitious'].notnull()][['decision', 'ambitious']]\n",
    "graph_data_6 = graph_data[graph_data['shared_interests'].notnull()][['decision', 'shared_interests']]"
   ]
  },
  {
   "cell_type": "code",
   "execution_count": 46,
   "metadata": {},
   "outputs": [
    {
     "data": {
      "text/html": [
       "<div>\n",
       "<style scoped>\n",
       "    .dataframe tbody tr th:only-of-type {\n",
       "        vertical-align: middle;\n",
       "    }\n",
       "\n",
       "    .dataframe tbody tr th {\n",
       "        vertical-align: top;\n",
       "    }\n",
       "\n",
       "    .dataframe thead th {\n",
       "        text-align: right;\n",
       "    }\n",
       "</style>\n",
       "<table border=\"1\" class=\"dataframe\">\n",
       "  <thead>\n",
       "    <tr style=\"text-align: right;\">\n",
       "      <th></th>\n",
       "      <th></th>\n",
       "      <th>decision</th>\n",
       "      <th>attractive</th>\n",
       "    </tr>\n",
       "    <tr>\n",
       "      <th>partner_id</th>\n",
       "      <th>partner_gender</th>\n",
       "      <th></th>\n",
       "      <th></th>\n",
       "    </tr>\n",
       "  </thead>\n",
       "  <tbody>\n",
       "    <tr>\n",
       "      <th>1.0</th>\n",
       "      <th>Female</th>\n",
       "      <td>0.5</td>\n",
       "      <td>6.7</td>\n",
       "    </tr>\n",
       "    <tr>\n",
       "      <th>2.0</th>\n",
       "      <th>Female</th>\n",
       "      <td>0.6</td>\n",
       "      <td>7.7</td>\n",
       "    </tr>\n",
       "    <tr>\n",
       "      <th>3.0</th>\n",
       "      <th>Female</th>\n",
       "      <td>0.5</td>\n",
       "      <td>6.5</td>\n",
       "    </tr>\n",
       "    <tr>\n",
       "      <th>4.0</th>\n",
       "      <th>Female</th>\n",
       "      <td>0.6</td>\n",
       "      <td>7.0</td>\n",
       "    </tr>\n",
       "    <tr>\n",
       "      <th>5.0</th>\n",
       "      <th>Female</th>\n",
       "      <td>0.3</td>\n",
       "      <td>5.3</td>\n",
       "    </tr>\n",
       "  </tbody>\n",
       "</table>\n",
       "</div>"
      ],
      "text/plain": [
       "                           decision  attractive\n",
       "partner_id partner_gender                      \n",
       "1.0        Female               0.5         6.7\n",
       "2.0        Female               0.6         7.7\n",
       "3.0        Female               0.5         6.5\n",
       "4.0        Female               0.6         7.0\n",
       "5.0        Female               0.3         5.3"
      ]
     },
     "execution_count": 46,
     "metadata": {},
     "output_type": "execute_result"
    }
   ],
   "source": [
    "graph_data_1.head()"
   ]
  },
  {
   "cell_type": "markdown",
   "metadata": {},
   "source": [
    "<pre>\n",
    "📝 <b>Note</b>\n",
    "<div style=\"background-color:#C2F2ED;\">The female subject (partner_id == 1.0) as a partner had 0.5 of yes(s) in average and rated as attractive at 6.7 in average as well (from 1-10)  \n",
    "\n",
    "<b>are the yes(s) she/he got related to his attractiveness attribute ?</b>\n",
    "</div> </pre>"
   ]
  },
  {
   "cell_type": "code",
   "execution_count": 47,
   "metadata": {},
   "outputs": [
    {
     "data": {
      "image/png": "[encoded data removed]",
      "text/plain": [
       "<Figure size 1296x720 with 6 Axes>"
      ]
     },
     "metadata": {
      "needs_background": "light"
     },
     "output_type": "display_data"
    }
   ],
   "source": [
    "fig, axes = plt.subplots(2, 3, figsize=(18, 10))\n",
    "\n",
    "fig.suptitle('Influence of Attributes to Decision Making')\n",
    "\n",
    "# list for R_scores\n",
    "l_R=[]\n",
    "#################### attractive\n",
    "sns.regplot(ax=axes[0, 0], data = graph_data_1, x='decision', y='attractive')\n",
    "axes[0, 0].set_xlabel('Positive Response Rate')\n",
    "axes[0, 0].set_ylabel('Attractiveness Score')\n",
    "axes[0, 0].set_ylim(0,10)\n",
    "axes[0, 0].set_yticks([0, 5, 10])\n",
    "axes[0, 0].xaxis.set_major_formatter(tick.PercentFormatter(1.0))\n",
    "#compute  Pearson Product-Moment Correlation Coefficient (R score)\n",
    "r1= round(np.corrcoef(graph_data_1['decision'], graph_data_1['attractive'])[0,1],3)\n",
    "axes[0, 0].text(0.6, 1, f'R = {r1}', fontweight='bold', color='red',fontsize=12)\n",
    "l_R.append(['attractive',r1])\n",
    "\n",
    "#################### sincere\n",
    "sns.regplot(ax=axes[0, 1], data = graph_data_2, x='decision', y='sincere')\n",
    "axes[0, 1].set_xlabel('Positive Response Rate')\n",
    "axes[0, 1].set_ylabel('Sincerity Score')\n",
    "axes[0, 1].set_ylim(0,10)\n",
    "axes[0, 1].set_yticks([0, 5, 10])\n",
    "axes[0, 1].xaxis.set_major_formatter(tick.PercentFormatter(1.0))\n",
    "r2= round(np.corrcoef(graph_data_2['decision'], graph_data_2['sincere'])[0,1],3)\n",
    "axes[0, 1].text(0.6, 1, f'R = {r2}', fontweight='bold', color='red',fontsize=12)\n",
    "l_R.append(['sincere',r2])\n",
    "\n",
    "#################### intelligent\n",
    "sns.regplot(ax=axes[0, 2], data = graph_data_3, x='decision', y='intelligent')\n",
    "axes[0, 2].set_xlabel('Positive Response Rate')\n",
    "axes[0, 2].set_ylabel('Intelligence Score')\n",
    "axes[0, 2].set_ylim(0,10)\n",
    "axes[0, 2].set_yticks([0, 5, 10])\n",
    "axes[0, 2].xaxis.set_major_formatter(tick.PercentFormatter(1.0))\n",
    "r3= round(np.corrcoef(graph_data_3['decision'], graph_data_3['intelligent'])[0,1],3)\n",
    "axes[0, 2].text(0.6, 1, f'R = {r3}', fontweight='bold', color='red',fontsize=12)\n",
    "l_R.append(['intelligent',r3])\n",
    "\n",
    "######################## Fun\n",
    "sns.regplot(ax=axes[1, 0], data = graph_data_4, x='decision', y='fun')\n",
    "axes[1, 0].set_xlabel('Positive Response Rate')\n",
    "axes[1, 0].set_ylabel('Fun Score')\n",
    "axes[1, 0].set_ylim(0,10)\n",
    "axes[1, 0].set_yticks([0, 5, 10])\n",
    "axes[1, 0].xaxis.set_major_formatter(tick.PercentFormatter(1.0))\n",
    "r4= round(np.corrcoef(graph_data_4['decision'], graph_data_4['fun'])[0,1],3)\n",
    "axes[1, 0].text(0.6, 1, f'R = {r4}', fontweight='bold', color='red',fontsize=12)\n",
    "l_R.append(['fun',r4])\n",
    "\n",
    "######################## ambitious\n",
    "sns.regplot(ax=axes[1, 1], data = graph_data_5, x='decision', y='ambitious')\n",
    "axes[1, 1].set_xlabel('Positive Response Rate')\n",
    "axes[1, 1].set_ylabel('Ambitious Score')\n",
    "axes[1, 1].set_ylim(0,10)\n",
    "axes[1, 1].set_yticks([0, 5, 10])\n",
    "axes[1, 1].xaxis.set_major_formatter(tick.PercentFormatter(1.0))\n",
    "r5= round(np.corrcoef(graph_data_5['decision'], graph_data_5['ambitious'])[0,1],3)\n",
    "axes[1, 1].text(0.6, 1, f'R = {r5}', fontweight='bold', color='red',fontsize=12)\n",
    "l_R.append(['ambitious',r5])\n",
    "\n",
    "############### shared interests\n",
    "sns.regplot(ax=axes[1, 2], data = graph_data_6, x='decision', y='shared_interests')\n",
    "axes[1, 2].set_xlabel('Positive Response Rate')\n",
    "axes[1, 2].set_ylabel('Interest Score')\n",
    "axes[1, 2].set_ylim(0,10)\n",
    "axes[1, 2].set_yticks([0, 5, 10])\n",
    "axes[1, 2].xaxis.set_major_formatter(tick.PercentFormatter(1.0))\n",
    "r6= round(np.corrcoef(graph_data_6['decision'], graph_data_6['shared_interests'])[0,1],3)\n",
    "axes[1, 2].text(0.6, 1, f'R = {r6}', fontweight='bold', color='red',fontsize=12)\n",
    "l_R.append(['shared_interests',r6])"
   ]
  },
  {
   "cell_type": "code",
   "execution_count": 48,
   "metadata": {},
   "outputs": [
    {
     "data": {
      "text/plain": [
       "Text(0, 0.5, '')"
      ]
     },
     "execution_count": 48,
     "metadata": {},
     "output_type": "execute_result"
    },
    {
     "data": {
      "image/png": "[encoded data removed]",
      "text/plain": [
       "<Figure size 432x288 with 1 Axes>"
      ]
     },
     "metadata": {
      "needs_background": "light"
     },
     "output_type": "display_data"
    }
   ],
   "source": [
    "df_R = pd.DataFrame(l_R, columns=['attribute', 'R'])\n",
    "ax = sns.barplot(y='attribute', x=\"R\", data=df_R, order = df_R.sort_values('R', ascending = False).attribute)\n",
    "ax.set_title('R scores of the different attributes\\n')\n",
    "ax.set_ylabel('')"
   ]
  },
  {
   "cell_type": "markdown",
   "metadata": {},
   "source": [
    "🗒 **OBSERVATION**  \n",
    "* looking at the correlation scores, the most important attribute to get approval is attractiveness, followed by how fun the individual is and if the two people have any shared interests.  \n",
    "* In contrast, being sincere, intelligent, and ambitious would not necessarily get that person a higher positive response rate.   "
   ]
  },
  {
   "cell_type": "code",
   "execution_count": 49,
   "metadata": {},
   "outputs": [],
   "source": [
    "# attractiveness per gender\n",
    "mask = (data_event['attractive'].notnull()) & (data_event['partner_gender'] == 'Male')\n",
    "corr_data_1m = data_event[mask][['partner_id', 'partner_gender', 'decision', 'attractive']]\n",
    "r1m= round(np.corrcoef(corr_data_1m['decision'], corr_data_1m['attractive'])[0,1],3)\n",
    "\n",
    "mask = (data_event['attractive'].notnull()) & (data_event['partner_gender'] == 'Female')\n",
    "corr_data_1f = data_event[mask][['partner_id', 'partner_gender', 'decision', 'attractive']]\n",
    "r1f= round(np.corrcoef(corr_data_1f['decision'], corr_data_1f['attractive'])[0,1],3)\n",
    "r1f\n",
    "\n",
    "# sincere per gender\n",
    "mask = (data_event['sincere'].notnull()) & (data_event['partner_gender'] == 'Male')\n",
    "corr_data_1m = data_event[mask][['partner_id', 'partner_gender', 'decision', 'sincere']]\n",
    "r2m= round(np.corrcoef(corr_data_1m['decision'], corr_data_1m['sincere'])[0,1],3)\n",
    "\n",
    "mask = (data_event['sincere'].notnull()) & (data_event['partner_gender'] == 'Female')\n",
    "corr_data_1f = data_event[mask][['partner_id', 'partner_gender', 'decision', 'sincere']]\n",
    "r2f= round(np.corrcoef(corr_data_1f['decision'], corr_data_1f['sincere'])[0,1],3)\n",
    "\n",
    "# intelligent per gender\n",
    "mask = (data_event['intelligent'].notnull()) & (data_event['partner_gender'] == 'Male')\n",
    "corr_data_1m = data_event[mask][['partner_id', 'partner_gender', 'decision', 'intelligent']]\n",
    "r3m= round(np.corrcoef(corr_data_1m['decision'], corr_data_1m['intelligent'])[0,1],3)\n",
    "\n",
    "mask = (data_event['intelligent'].notnull()) & (data_event['partner_gender'] == 'Female')\n",
    "corr_data_1f = data_event[mask][['partner_id', 'partner_gender', 'decision', 'intelligent']]\n",
    "r3f= round(np.corrcoef(corr_data_1f['decision'], corr_data_1f['intelligent'])[0,1],3)\n",
    "\n",
    "# fun per gender\n",
    "mask = (data_event['fun'].notnull()) & (data_event['partner_gender'] == 'Male')\n",
    "corr_data_1m = data_event[mask][['partner_id', 'partner_gender', 'decision', 'fun']]\n",
    "r4m= round(np.corrcoef(corr_data_1m['decision'], corr_data_1m['fun'])[0,1],3)\n",
    "\n",
    "mask = (data_event['fun'].notnull()) & (data_event['partner_gender'] == 'Female')\n",
    "corr_data_1f = data_event[mask][['partner_id', 'partner_gender', 'decision', 'fun']]\n",
    "r4f= round(np.corrcoef(corr_data_1f['decision'], corr_data_1f['fun'])[0,1],3)\n",
    "\n",
    "# ambitious  per gender\n",
    "mask = (data_event['ambitious'].notnull()) & (data_event['partner_gender'] == 'Male')\n",
    "corr_data_1m = data_event[mask][['partner_id', 'partner_gender', 'decision', 'ambitious']]\n",
    "r5m= round(np.corrcoef(corr_data_1m['decision'], corr_data_1m['ambitious'])[0,1],3)\n",
    "\n",
    "mask = (data_event['ambitious'].notnull()) & (data_event['partner_gender'] == 'Female')\n",
    "corr_data_1f = data_event[mask][['partner_id', 'partner_gender', 'decision', 'ambitious']]\n",
    "r5f= round(np.corrcoef(corr_data_1f['decision'], corr_data_1f['ambitious'])[0,1],3)\n",
    "\n",
    "# shared interests per gender\n",
    "mask = (data_event['fun'].notnull()) & (data_event['partner_gender'] == 'Male')\n",
    "corr_data_1m = data_event[mask][['partner_id', 'partner_gender', 'decision', 'fun']]\n",
    "r6m= round(np.corrcoef(corr_data_1m['decision'], corr_data_1m['fun'])[0,1],3)\n",
    "\n",
    "mask = (data_event['shared_interests'].notnull()) & (data_event['partner_gender'] == 'Female')\n",
    "corr_data_1f = data_event[mask][['partner_id', 'partner_gender', 'decision', 'shared_interests']]\n",
    "r6f= round(np.corrcoef(corr_data_1f['decision'], corr_data_1f['shared_interests'])[0,1],3)\n"
   ]
  },
  {
   "cell_type": "code",
   "execution_count": 50,
   "metadata": {},
   "outputs": [],
   "source": [
    "l =[[r1,r2,r3,r4,r5,r6],[r1m,r2m,r3m,r4m,r5m,r6m],[r1f,r2f,r3f,r4f,r5f,r6f]]"
   ]
  },
  {
   "cell_type": "code",
   "execution_count": 51,
   "metadata": {},
   "outputs": [
    {
     "data": {
      "text/html": [
       "<div>\n",
       "<style scoped>\n",
       "    .dataframe tbody tr th:only-of-type {\n",
       "        vertical-align: middle;\n",
       "    }\n",
       "\n",
       "    .dataframe tbody tr th {\n",
       "        vertical-align: top;\n",
       "    }\n",
       "\n",
       "    .dataframe thead th {\n",
       "        text-align: right;\n",
       "    }\n",
       "</style>\n",
       "<table border=\"1\" class=\"dataframe\">\n",
       "  <thead>\n",
       "    <tr style=\"text-align: right;\">\n",
       "      <th></th>\n",
       "      <th>R_value</th>\n",
       "      <th>Type</th>\n",
       "      <th>Attribute</th>\n",
       "    </tr>\n",
       "  </thead>\n",
       "  <tbody>\n",
       "    <tr>\n",
       "      <th>0</th>\n",
       "      <td>0.799</td>\n",
       "      <td>AVG</td>\n",
       "      <td>attractive</td>\n",
       "    </tr>\n",
       "    <tr>\n",
       "      <th>1</th>\n",
       "      <td>0.247</td>\n",
       "      <td>AVG</td>\n",
       "      <td>sincere</td>\n",
       "    </tr>\n",
       "    <tr>\n",
       "      <th>2</th>\n",
       "      <td>0.263</td>\n",
       "      <td>AVG</td>\n",
       "      <td>intelligent</td>\n",
       "    </tr>\n",
       "    <tr>\n",
       "      <th>3</th>\n",
       "      <td>0.656</td>\n",
       "      <td>AVG</td>\n",
       "      <td>fun</td>\n",
       "    </tr>\n",
       "    <tr>\n",
       "      <th>4</th>\n",
       "      <td>0.289</td>\n",
       "      <td>AVG</td>\n",
       "      <td>ambitious</td>\n",
       "    </tr>\n",
       "  </tbody>\n",
       "</table>\n",
       "</div>"
      ],
      "text/plain": [
       "   R_value Type    Attribute\n",
       "0    0.799  AVG   attractive\n",
       "1    0.247  AVG      sincere\n",
       "2    0.263  AVG  intelligent\n",
       "3    0.656  AVG          fun\n",
       "4    0.289  AVG    ambitious"
      ]
     },
     "execution_count": 51,
     "metadata": {},
     "output_type": "execute_result"
    }
   ],
   "source": [
    "d={'R_value': [r1,r2,r3,r4,r5,r6,r1m,r2m,r3m,r4m,r5m,r6m,r1f,r2f,r3f,r4f,r5f,r6f],\n",
    "   'Type':['AVG','AVG','AVG','AVG','AVG','AVG', 'M','M','M','M','M','M', 'F', 'F', 'F', 'F', 'F', 'F'],\n",
    "   'Attribute':['attractive', 'sincere', 'intelligent', 'fun', 'ambitious', 'shared_interests','attractive', 'sincere', 'intelligent', 'fun', 'ambitious', 'shared_interests','attractive', 'sincere', 'intelligent', 'fun', 'ambitious', 'shared_interests']    \n",
    "}\n",
    "\n",
    "corr_graph = pd.DataFrame(d)\n",
    "corr_graph.head()"
   ]
  },
  {
   "cell_type": "code",
   "execution_count": 52,
   "metadata": {},
   "outputs": [
    {
     "data": {
      "image/png": "[encoded data removed]",
      "text/plain": [
       "<Figure size 720x504 with 6 Axes>"
      ]
     },
     "metadata": {
      "needs_background": "light"
     },
     "output_type": "display_data"
    }
   ],
   "source": [
    "fg=sns.catplot(x=\"Type\", y=\"R_value\", kind=\"bar\", data=corr_graph, col = 'Attribute',  col_wrap=3, palette=sns.color_palette(['green', 'blue', 'orange']))\n",
    "size = fg.fig.get_size_inches()\n",
    "fg.fig.set_size_inches(10, 7)"
   ]
  },
  {
   "cell_type": "markdown",
   "metadata": {},
   "source": [
    "🗒 **OBSERVATION**  \n",
    "* An attractive female would win more positive responses compared to an attractive male , that confirms that man do really care about attractiveness  \n",
    "* A sincere male would win slightly more positive responses compared to a sincere female. Women care more for sincerity  \n",
    "* An intelligent male would win more positive responses compared to an intelligent female.  \n",
    "* No significant difference between male and female on fun attribute.  \n",
    "* An ambitious female is highly desirable by males  \n",
    "* Females are more likely to give out a positive Reponses if the male has shared interest. "
   ]
  },
  {
   "cell_type": "markdown",
   "metadata": {},
   "source": [
    "# Conclusion <a class=\"anchor\" id=\"section4\"></a> "
   ]
  },
  {
   "cell_type": "markdown",
   "metadata": {},
   "source": [
    ">Intresting insights have been shown in this analysis. First, we have shown how different attributes influence getting the approval of others. After that, we have shown the behaviour difference between males and females for decision making.  \n",
    "\n",
    ">Finally, many other questions can be raised:\n",
    ">> could sharing same race or religion or even growing up in the same neighbourhood influence the chance to get another date  \n",
    "could being in the same field or sharing the same interests increase the likelihood of getting an approval  \n",
    "could being shy or sociable have an impact on getting along with others"
   ]
  }
 ],
 "metadata": {
  "kernelspec": {
   "display_name": "Python 3 (ipykernel)",
   "language": "python",
   "name": "python3"
  },
  "language_info": {
   "codemirror_mode": {
    "name": "ipython",
    "version": 3
   },
   "file_extension": ".py",
   "mimetype": "text/x-python",
   "name": "python",
   "nbconvert_exporter": "python",
   "pygments_lexer": "ipython3",
   "version": "3.9.7"
  }
 },
 "nbformat": 4,
 "nbformat_minor": 4
}
